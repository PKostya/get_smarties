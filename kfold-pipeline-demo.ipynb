{
 "cells": [
  {
   "cell_type": "code",
   "execution_count": 1,
   "metadata": {
    "collapsed": true
   },
   "outputs": [],
   "source": [
    "import pandas as pd\n",
    "import numpy as np\n",
    "from __future__ import print_function\n",
    "from sklearn.pipeline import Pipeline\n",
    "from sklearn.naive_bayes import MultinomialNB\n",
    "from sklearn.model_selection import StratifiedKFold\n",
    "from get_smarties import Smarties"
   ]
  },
  {
   "cell_type": "markdown",
   "metadata": {},
   "source": [
    "### Prepare Dataset"
   ]
  },
  {
   "cell_type": "code",
   "execution_count": 2,
   "metadata": {
    "collapsed": true
   },
   "outputs": [],
   "source": [
    "df = pd.read_csv('https://raw.githubusercontent.com/yhat/demo-churn-pred/master/model/churn.csv')\n",
    "df = df.drop(['Phone', 'Area Code'], axis=1)"
   ]
  },
  {
   "cell_type": "code",
   "execution_count": 3,
   "metadata": {
    "collapsed": true
   },
   "outputs": [],
   "source": [
    "X = df[df.columns[0:-1]]\n",
    "Y = np.array(df[df.columns[-1]] == 'True.', dtype=np.int8)"
   ]
  },
  {
   "cell_type": "markdown",
   "metadata": {},
   "source": [
    "### Setup pipeline with Smarties\n",
    "`get_smarties` has fit/transform capabilities, which means you can inject it directly into your sklearn pipelines"
   ]
  },
  {
   "cell_type": "code",
   "execution_count": 4,
   "metadata": {
    "collapsed": true
   },
   "outputs": [],
   "source": [
    "training_pipeline = Pipeline([\n",
    "    ('smarties', Smarties()),\n",
    "    ('clf', MultinomialNB()),\n",
    "])"
   ]
  },
  {
   "cell_type": "markdown",
   "metadata": {},
   "source": [
    "### Easily train and test with 10-fold cross validation"
   ]
  },
  {
   "cell_type": "code",
   "execution_count": 5,
   "metadata": {},
   "outputs": [
    {
     "name": "stdout",
     "output_type": "stream",
     "text": [
      "Fold 1 accuracy: 0.571856287425\n",
      "Fold 2 accuracy: 0.664670658683\n",
      "Fold 3 accuracy: 0.568862275449\n",
      "Fold 4 accuracy: 0.597597597598\n",
      "Fold 5 accuracy: 0.678678678679\n",
      "Fold 6 accuracy: 0.6996996997\n",
      "Fold 7 accuracy: 0.654654654655\n",
      "Fold 8 accuracy: 0.633633633634\n",
      "Fold 9 accuracy: 0.618618618619\n",
      "Fold 10 accuracy: 0.66966966967\n"
     ]
    }
   ],
   "source": [
    "accuracies = []\n",
    "fold = 1\n",
    "skf = StratifiedKFold(n_splits=10)\n",
    "\n",
    "for train_index, test_index in skf.split(X, Y):\n",
    "    x_train = X.iloc[train_index]\n",
    "    y_train = Y[train_index]\n",
    "    x_test = X.iloc[test_index]\n",
    "    y_test = Y[test_index]\n",
    "    \n",
    "    # fit dataset\n",
    "    training_pipeline.fit(x_train, y_train)\n",
    "    \n",
    "    # get test accuracy\n",
    "    accuracy = training_pipeline.score(x_test, y_test)\n",
    "    \n",
    "    print('Fold', fold, 'accuracy:', accuracy)\n",
    "    fold += 1\n",
    "    accuracies.append(accuracy)"
   ]
  },
  {
   "cell_type": "code",
   "execution_count": 6,
   "metadata": {},
   "outputs": [
    {
     "name": "stdout",
     "output_type": "stream",
     "text": [
      "Final k-fold test accuracy: 0.635794177411\n"
     ]
    }
   ],
   "source": [
    "print('Final k-fold test accuracy:', np.average(accuracies))"
   ]
  }
 ],
 "metadata": {
  "kernelspec": {
   "display_name": "Python 2",
   "language": "python",
   "name": "python2"
  },
  "language_info": {
   "codemirror_mode": {
    "name": "ipython",
    "version": 2
   },
   "file_extension": ".py",
   "mimetype": "text/x-python",
   "name": "python",
   "nbconvert_exporter": "python",
   "pygments_lexer": "ipython2",
   "version": "2.7.13"
  }
 },
 "nbformat": 4,
 "nbformat_minor": 2
}
